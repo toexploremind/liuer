{
  "nbformat": 4,
  "nbformat_minor": 0,
  "metadata": {
    "colab": {
      "provenance": [],
      "authorship_tag": "ABX9TyPC4AEjwBCLLoUN4lKOcZYU",
      "include_colab_link": true
    },
    "kernelspec": {
      "name": "python3",
      "display_name": "Python 3"
    },
    "language_info": {
      "name": "python"
    }
  },
  "cells": [
    {
      "cell_type": "markdown",
      "metadata": {
        "id": "view-in-github",
        "colab_type": "text"
      },
      "source": [
        "<a href=\"https://colab.research.google.com/github/toexploremind/liuer/blob/my_new_branch01/Lecture_12_2.ipynb\" target=\"_parent\"><img src=\"https://colab.research.google.com/assets/colab-badge.svg\" alt=\"Open In Colab\"/></a>"
      ]
    },
    {
      "cell_type": "code",
      "source": [
        "import torch\n",
        "\n",
        "input_size = 4\n",
        "hidden_size = 4\n",
        "num_layers = 1\n",
        "batch_size = 1\n",
        "seq_len = 5\n",
        "\n",
        "idx2char = ['e', 'h', 'l', 'o']\n",
        "x_data = [1, 0, 2, 2, 3]\n",
        "y_data = [3, 1, 2, 3, 2]\n",
        "\n",
        "one_hot_lookup = [[1,0,0,0],[0,1,0,0],[0,0,1,0],[0,0,0,1]]\n",
        "\n",
        "x_one_hot = [one_hot_lookup[x] for x in x_data]\n",
        "\n",
        "inputs = torch.Tensor(x_one_hot).view(seq_len, batch_size, input_size)\n",
        "labels = torch.LongTensor(y_data)"
      ],
      "metadata": {
        "id": "p2zkNMF61aLW"
      },
      "execution_count": 11,
      "outputs": []
    },
    {
      "cell_type": "code",
      "source": [
        "class Model(torch.nn.Module):\n",
        "  def __init__(self, input_size, hidden_size, batch_sizem, num_layers=1):\n",
        "    super(Model, self).__init__()\n",
        "    self.num_layers = num_layers\n",
        "    self.batch_size = batch_size\n",
        "    self.input_size = input_size\n",
        "    self.hidden_size = hidden_size\n",
        "    self.rnn = torch.nn.RNN(input_size = self.input_size, hidden_size = self.hidden_size, num_layers=num_layers)\n",
        "\n",
        "  def forward(self, input):\n",
        "    hidden = torch.zeros(self.num_layers, self.batch_size, self.hidden_size)\n",
        "    out,_ = self.rnn(input, hidden)\n",
        "    return out.view(-1, self.hidden_size)\n",
        "\n",
        "net = Model(input_size, hidden_size, batch_size)\n"
      ],
      "metadata": {
        "id": "4wVAwDOA0vVX"
      },
      "execution_count": 12,
      "outputs": []
    },
    {
      "cell_type": "code",
      "source": [
        "criterion = torch.nn.CrossEntropyLoss()\n",
        "optimizer = torch.optim.Adam(net.parameters(), lr = 0.1)"
      ],
      "metadata": {
        "id": "KofAATOa1pjP"
      },
      "execution_count": 13,
      "outputs": []
    },
    {
      "cell_type": "code",
      "execution_count": 14,
      "metadata": {
        "colab": {
          "base_uri": "https://localhost:8080/"
        },
        "id": "_s4pakHS0uSS",
        "outputId": "6b59e2af-caa9-4997-d86e-d78be67e67fa"
      },
      "outputs": [
        {
          "output_type": "stream",
          "name": "stdout",
          "text": [
            "Predicted: holee,Epoch [1/15 loss = 1.416\n",
            "Predicted: holol,Epoch [2/15 loss = 1.220\n",
            "Predicted: oolll,Epoch [3/15 loss = 1.083\n",
            "Predicted: ollll,Epoch [4/15 loss = 0.975\n",
            "Predicted: ollll,Epoch [5/15 loss = 0.893\n",
            "Predicted: ohlll,Epoch [6/15 loss = 0.832\n",
            "Predicted: oholl,Epoch [7/15 loss = 0.787\n",
            "Predicted: oholl,Epoch [8/15 loss = 0.745\n",
            "Predicted: oholl,Epoch [9/15 loss = 0.709\n",
            "Predicted: oholl,Epoch [10/15 loss = 0.682\n",
            "Predicted: oholl,Epoch [11/15 loss = 0.658\n",
            "Predicted: ohlll,Epoch [12/15 loss = 0.634\n",
            "Predicted: ohlll,Epoch [13/15 loss = 0.610\n",
            "Predicted: ohlll,Epoch [14/15 loss = 0.590\n",
            "Predicted: ohlll,Epoch [15/15 loss = 0.573\n"
          ]
        }
      ],
      "source": [
        "for epoch in range(15):\n",
        "  optimizer.zero_grad()\n",
        "  outputs = net(inputs)\n",
        "  loss = criterion(outputs, labels)\n",
        "  loss.backward()\n",
        "  optimizer.step()\n",
        "\n",
        "  _, idx = outputs.max(dim=1)\n",
        "  idx = idx.data.numpy()\n",
        "  print('Predicted:',''.join([idx2char[x] for x in idx]), end='')\n",
        "  print(',Epoch [%d/15 loss = %.3f' % (epoch + 1, loss.item()))"
      ]
    },
    {
      "cell_type": "code",
      "source": [],
      "metadata": {
        "id": "vRCSO8QQ1qJR"
      },
      "execution_count": null,
      "outputs": []
    }
  ]
}