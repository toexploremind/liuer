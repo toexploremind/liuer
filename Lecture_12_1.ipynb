{
  "nbformat": 4,
  "nbformat_minor": 0,
  "metadata": {
    "colab": {
      "provenance": [],
      "authorship_tag": "ABX9TyMIJpME6Y+z3OoyJ6MNYMWS",
      "include_colab_link": true
    },
    "kernelspec": {
      "name": "python3",
      "display_name": "Python 3"
    },
    "language_info": {
      "name": "python"
    },
    "gpuClass": "standard"
  },
  "cells": [
    {
      "cell_type": "markdown",
      "metadata": {
        "id": "view-in-github",
        "colab_type": "text"
      },
      "source": [
        "<a href=\"https://colab.research.google.com/github/toexploremind/liuer/blob/my_new_branch01/Lecture_12_1.ipynb\" target=\"_parent\"><img src=\"https://colab.research.google.com/assets/colab-badge.svg\" alt=\"Open In Colab\"/></a>"
      ]
    },
    {
      "cell_type": "code",
      "source": [
        "!nvidia-smi"
      ],
      "metadata": {
        "id": "VNfLAoKqE3GS",
        "colab": {
          "base_uri": "https://localhost:8080/"
        },
        "outputId": "86d23a22-6474-4e7c-c95d-363e0e11b104"
      },
      "execution_count": null,
      "outputs": [
        {
          "output_type": "stream",
          "name": "stdout",
          "text": [
            "Mon Sep 12 02:06:23 2022       \n",
            "+-----------------------------------------------------------------------------+\n",
            "| NVIDIA-SMI 460.32.03    Driver Version: 460.32.03    CUDA Version: 11.2     |\n",
            "|-------------------------------+----------------------+----------------------+\n",
            "| GPU  Name        Persistence-M| Bus-Id        Disp.A | Volatile Uncorr. ECC |\n",
            "| Fan  Temp  Perf  Pwr:Usage/Cap|         Memory-Usage | GPU-Util  Compute M. |\n",
            "|                               |                      |               MIG M. |\n",
            "|===============================+======================+======================|\n",
            "|   0  Tesla T4            Off  | 00000000:00:04.0 Off |                    0 |\n",
            "| N/A   50C    P8    11W /  70W |      0MiB / 15109MiB |      0%      Default |\n",
            "|                               |                      |                  N/A |\n",
            "+-------------------------------+----------------------+----------------------+\n",
            "                                                                               \n",
            "+-----------------------------------------------------------------------------+\n",
            "| Processes:                                                                  |\n",
            "|  GPU   GI   CI        PID   Type   Process name                  GPU Memory |\n",
            "|        ID   ID                                                   Usage      |\n",
            "|=============================================================================|\n",
            "|  No running processes found                                                 |\n",
            "+-----------------------------------------------------------------------------+\n"
          ]
        }
      ]
    },
    {
      "cell_type": "code",
      "source": [
        "import torch"
      ],
      "metadata": {
        "id": "S0QkvLRoFwS0"
      },
      "execution_count": 2,
      "outputs": []
    },
    {
      "cell_type": "code",
      "source": [
        "batch_size = 1\n",
        "seq_len = 3   #即x1,x2,x3\n",
        "input_size = 4 #即x的长度\n",
        "hidden_size = 2 \n",
        "\n",
        "cell = torch.nn.RNNCell(input_size=input_size, hidden_size=hidden_size)\n",
        "\n",
        "dataset = torch.randn(seq_len, batch_size, input_size)\n",
        "hidden = torch.zeros(batch_size, hidden_size)\n",
        "\n",
        "for idx, input in enumerate(dataset): #依次输入x1,x2,x3的batch\n",
        "  print('=' * 20, idx, '=' *20)\n",
        "  print('Input size:', input.shape)\n",
        "\n",
        "  hidden = cell(input, hidden)\n",
        "\n",
        "  print('hidden size:', hidden.shape)\n",
        "  print(hidden)\n",
        "        "
      ],
      "metadata": {
        "colab": {
          "base_uri": "https://localhost:8080/"
        },
        "id": "I0qSCMgVF5kQ",
        "outputId": "24de6b89-3ea0-4c14-a59a-946f51e72936"
      },
      "execution_count": 3,
      "outputs": [
        {
          "output_type": "stream",
          "name": "stdout",
          "text": [
            "==================== 0 ====================\n",
            "Input size: torch.Size([1, 4])\n",
            "hidden size: torch.Size([1, 2])\n",
            "tensor([[0.8712, 0.7014]], grad_fn=<TanhBackward0>)\n",
            "==================== 1 ====================\n",
            "Input size: torch.Size([1, 4])\n",
            "hidden size: torch.Size([1, 2])\n",
            "tensor([[0.6974, 0.9949]], grad_fn=<TanhBackward0>)\n",
            "==================== 2 ====================\n",
            "Input size: torch.Size([1, 4])\n",
            "hidden size: torch.Size([1, 2])\n",
            "tensor([[0.3346, 0.9136]], grad_fn=<TanhBackward0>)\n"
          ]
        }
      ]
    },
    {
      "cell_type": "markdown",
      "source": [
        "主要是要弄清输入和隐层的维度"
      ],
      "metadata": {
        "id": "m-zssSACka4x"
      }
    },
    {
      "cell_type": "code",
      "source": [
        "import torch\n",
        "\n",
        "batch_size = 1\n",
        "seq_len = 3   #即x1,x2,x3\n",
        "input_size = 4 #即x的长度\n",
        "hidden_size = 2 \n",
        "num_layers = 1\n",
        "\n",
        "cell = torch.nn.RNN(input_size=input_size, hidden_size=hidden_size, num_layers = num_layers)\n",
        "\n",
        "inputs = torch.randn(seq_len, batch_size, input_size)\n",
        "hidden = torch.zeros(num_layers, batch_size, hidden_size)\n",
        "\n",
        "out, hidden = cell(inputs, hidden)\n",
        "\n",
        "print('Oouput size', out.shape)\n",
        "print('Output:', out)\n",
        "print('Hidden size:', hidden.shape)\n",
        "print('Hidden:', hidden)"
      ],
      "metadata": {
        "colab": {
          "base_uri": "https://localhost:8080/"
        },
        "id": "F1gNsLSoF8bg",
        "outputId": "398a7b01-44bc-4c32-8570-24bcb7a3d256"
      },
      "execution_count": 4,
      "outputs": [
        {
          "output_type": "stream",
          "name": "stdout",
          "text": [
            "Oouput size torch.Size([3, 1, 2])\n",
            "Output: tensor([[[-0.0856,  0.4983]],\n",
            "\n",
            "        [[ 0.7732,  0.6507]],\n",
            "\n",
            "        [[-0.3539,  0.1777]]], grad_fn=<StackBackward0>)\n",
            "Hidden size: torch.Size([1, 1, 2])\n",
            "Hidden: tensor([[[-0.3539,  0.1777]]], grad_fn=<StackBackward0>)\n"
          ]
        }
      ]
    },
    {
      "cell_type": "code",
      "source": [
        "import torch\n",
        "\n",
        "input_size = 4\n",
        "hidden_size = 4\n",
        "batch_size = 1\n",
        "\n",
        "idx2char = ['e', 'h', 'l', 'o']\n",
        "x_data = [1, 0, 2, 2, 3]\n",
        "y_data = [3, 1, 2, 3, 2]\n",
        "\n",
        "one_hot_lookup = [[1,0,0,0],[0,1,0,0],[0,0,1,0],[0,0,0,1]]\n",
        "\n",
        "x_one_hot = [one_hot_lookup[x] for x in x_data]\n",
        "\n",
        "inputs = torch.Tensor(x_one_hot).view(-1, batch_size, input_size)\n",
        "labels = torch.LongTensor(y_data).view(-1, 1)"
      ],
      "metadata": {
        "id": "T4MR_pq2GJOQ"
      },
      "execution_count": null,
      "outputs": []
    },
    {
      "cell_type": "code",
      "source": [
        "class Model(torch.nn.Module):\n",
        "  def __init__(self, input_size, hidden_size, batch_size):\n",
        "    super(Model, self).__init__()\n",
        "    self.batch_size = batch_size\n",
        "    self.input_size = input_size\n",
        "    self.hidden_size = hidden_size\n",
        "    self.rnncell = torch.nn.RNNCell(input_size = self.input_size, hidden_size = self.hidden_size)\n",
        "\n",
        "  def forward(self, input, hidden):\n",
        "    hidden = self.rnncell(input, hidden)\n",
        "    return hidden\n",
        "\n",
        "  def init_hidden(self):\n",
        "    return torch.zeros(self.batch_size, self.hidden_size)\n",
        "  \n",
        "net = Model(input_size, hidden_size, batch_size)\n"
      ],
      "metadata": {
        "id": "x-vuu1z0Ws36"
      },
      "execution_count": 5,
      "outputs": []
    },
    {
      "cell_type": "code",
      "source": [
        "criterion = torch.nn.CrossEntropyLoss()\n",
        "optimizer = torch.optim.Adam(net.parameters(), lr = 0.1)"
      ],
      "metadata": {
        "id": "oc4HpD72YGd8"
      },
      "execution_count": 6,
      "outputs": []
    },
    {
      "cell_type": "code",
      "source": [
        "for epoch in range(15):\n",
        "  loss = 0\n",
        "  optimizer.zero_grad()\n",
        "  hidden = net.init_hidden()\n",
        "  print('Predicted string:', end='')\n",
        "  for input,label in zip(inputs, labels):\n",
        "    hidden = net(input, hidden)\n",
        "    loss += criterion(hidden,label)  \n",
        "    _, idx = hidden.max(dim=1)\n",
        "    print(idx2char[idx.item()], end='')\n",
        "  loss.backward()\n",
        "  optimizer.step()\n",
        "  print(', Epoch [%d/15] loss=%.4f' % (epoch+1, loss.item()))\n"
      ],
      "metadata": {
        "colab": {
          "base_uri": "https://localhost:8080/"
        },
        "id": "YwXTCsD3aST-",
        "outputId": "1624f077-d398-4b1a-d91b-1ce0dd9145c4"
      },
      "execution_count": null,
      "outputs": [
        {
          "output_type": "stream",
          "name": "stdout",
          "text": [
            "Predicted string:hohhh, Epoch [1/15] loss=7.2502\n",
            "Predicted string:hoool, Epoch [2/15] loss=6.0265\n",
            "Predicted string:ooool, Epoch [3/15] loss=5.2078\n",
            "Predicted string:ooool, Epoch [4/15] loss=4.7264\n",
            "Predicted string:ooool, Epoch [5/15] loss=4.4053\n",
            "Predicted string:ooool, Epoch [6/15] loss=4.1423\n",
            "Predicted string:ohool, Epoch [7/15] loss=3.9166\n",
            "Predicted string:ohool, Epoch [8/15] loss=3.6938\n",
            "Predicted string:ohool, Epoch [9/15] loss=3.4427\n",
            "Predicted string:ohool, Epoch [10/15] loss=3.1624\n",
            "Predicted string:ohool, Epoch [11/15] loss=2.8865\n",
            "Predicted string:ohool, Epoch [12/15] loss=2.6752\n",
            "Predicted string:ohool, Epoch [13/15] loss=2.5461\n",
            "Predicted string:ohool, Epoch [14/15] loss=2.4638\n",
            "Predicted string:ohlol, Epoch [15/15] loss=2.4024\n"
          ]
        }
      ]
    },
    {
      "cell_type": "code",
      "source": [],
      "metadata": {
        "id": "_fGQ0Qzmb7pz"
      },
      "execution_count": null,
      "outputs": []
    }
  ]
}